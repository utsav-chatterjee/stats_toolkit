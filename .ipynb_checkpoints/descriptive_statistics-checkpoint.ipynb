{
 "cells": [
  {
   "cell_type": "markdown",
   "metadata": {},
   "source": [
    "##### Measures of Center\n",
    "- Mean\n",
    "- Median\n",
    "- Mode"
   ]
  },
  {
   "cell_type": "code",
   "execution_count": 11,
   "metadata": {},
   "outputs": [],
   "source": [
    "# Importing libraries\n",
    "import numpy as np\n",
    "from scipy import stats\n",
    "import matplotlib.pyplot as plt"
   ]
  },
  {
   "cell_type": "code",
   "execution_count": 3,
   "metadata": {},
   "outputs": [],
   "source": [
    "def find_mean(data):\n",
    "    # Calculating the mean and saving the result in a variable\n",
    "    mean = np.mean(data)\n",
    "    \n",
    "    # returning mean value\n",
    "    return mean"
   ]
  },
  {
   "cell_type": "code",
   "execution_count": 23,
   "metadata": {},
   "outputs": [],
   "source": [
    "def find_median(data):\n",
    "    # Calculating the median and saving the result in a variable\n",
    "    median = numpy.median(data)\n",
    "    \n",
    "    # returning median value\n",
    "    return median"
   ]
  },
  {
   "cell_type": "code",
   "execution_count": 38,
   "metadata": {},
   "outputs": [],
   "source": [
    "def find_mode(data):\n",
    "    # Calculating the mode and saving the result in a variable\n",
    "    mode = stats.mode(data)[0][0]\n",
    "    \n",
    "    # returning mode value\n",
    "    return mode"
   ]
  },
  {
   "cell_type": "markdown",
   "metadata": {},
   "source": [
    "###### Measures of Spread\n",
    "- Range\n",
    "- Interquartile Range (IQR)\n",
    "- Standard Deviation\n",
    "- Variance"
   ]
  },
  {
   "cell_type": "code",
   "execution_count": 39,
   "metadata": {},
   "outputs": [],
   "source": [
    "def find_min(data):\n",
    "    # Calculating the Minimum Value from the data\n",
    "    minimum = min(data)\n",
    "    \n",
    "    # returning min value\n",
    "    return minimum"
   ]
  },
  {
   "cell_type": "code",
   "execution_count": 40,
   "metadata": {},
   "outputs": [],
   "source": [
    "def find_max(data):\n",
    "    # Calculating the Maximum Value from the data\n",
    "    maximum = max(data)\n",
    "    \n",
    "    # returning min value\n",
    "    return maximum"
   ]
  },
  {
   "cell_type": "code",
   "execution_count": 41,
   "metadata": {},
   "outputs": [],
   "source": [
    "def find_iqr(data):\n",
    "    # Sorting the input data list\n",
    "    sorted_input_list = sorted(data)\n",
    "    \n",
    "    # Storing the length of the input data list into a variable\n",
    "    lenth_sorted_input_list = len(sorted_input_list)\n",
    "    \n",
    "    # Checking for even or odd number of values in data and -\n",
    "    # Finding the location of the median in the list to split data into two lists to calculate Q1 and Q2\n",
    "    if lenth_sorted_input_list%2 != 0:\n",
    "        index_of_median = int((lenth_sorted_input_list+1)/2) - 1\n",
    "        data_for_q1 = sorted_input_list[:index_of_median]\n",
    "        data_for_q3 = sorted_input_list[index_of_median+1:]\n",
    "    else:\n",
    "        data_for_q1 = sorted_input_list[:int((lenth_sorted_input_list/2))]\n",
    "        data_for_q3 = sorted_input_list[int(lenth_sorted_input_list/2):]\n",
    "    \n",
    "    # Calculate Q1, Q3 and finally, IQR\n",
    "    q1 = find_median(data_for_q1)\n",
    "    q3 = find_median(data_for_q3)\n",
    "    iqr = q3 - q1\n",
    "    \n",
    "    # returning IQR value\n",
    "    return q1, q3, iqr"
   ]
  },
  {
   "cell_type": "markdown",
   "metadata": {},
   "source": [
    "The most common way that professionals measure the spread of a data-set with a single value is with the Standard Deviation or Variance."
   ]
  },
  {
   "cell_type": "code",
   "execution_count": 42,
   "metadata": {},
   "outputs": [],
   "source": [
    "def find_var_and_stdev(data):\n",
    "    # Computing variance\n",
    "    variance = np.var(data)\n",
    "    \n",
    "    # Computing standard deviation\n",
    "    standard_deviation =np.std(data)\n",
    "    \n",
    "    # returning variance and standard deviation values\n",
    "    return variance, standard_deviation"
   ]
  },
  {
   "cell_type": "markdown",
   "metadata": {},
   "source": [
    "###### Visualizing Shape of Data\n",
    "- Histograms are the most popular visual for quantitative data."
   ]
  },
  {
   "cell_type": "code",
   "execution_count": 135,
   "metadata": {},
   "outputs": [],
   "source": [
    "def plot_dist_hist(data, bins):\n",
    "    fig = plt.figure()\n",
    "    dh = fig.add_axes([0.1,0.1,0.8,0.8])\n",
    "    \n",
    "    dh.hist(data, bins=bins, edgecolor='white')\n",
    "    \n",
    "    # Setting Labels\n",
    "    dh.set_xlabel(\"Data\")\n",
    "    dh.set_ylabel(\"Frequency\")\n",
    "    dh.set_title(\"Data Distribution Histogram\")\n",
    "    \n",
    "    # Marking Mean\n",
    "    dh.axvline(find_mean(data), color='red', linestyle='dashed', linewidth=1)\n",
    "    dh.text(find_mean(data)+0.1,0.1,'Mean',rotation=90, color='yellow')\n",
    "    \n",
    "    # Marking Median\n",
    "    dh.axvline(find_median(data), color='green', linestyle='dashed', linewidth=1)\n",
    "    dh.text(find_median(data)+0.1,0.1,'Median',rotation=90, color='yellow')\n",
    "    \n",
    "    # Marking Mode\n",
    "    dh.axvline(find_mode(data), color='orange', linestyle='dashed', linewidth=1)\n",
    "    dh.text(find_mode(data)+0.1,0.1,'Mode',rotation=90, color='yellow')\n",
    "    \n",
    "    return dh"
   ]
  },
  {
   "cell_type": "markdown",
   "metadata": {},
   "source": [
    "###### Reporting all metrics together"
   ]
  },
  {
   "cell_type": "code",
   "execution_count": 168,
   "metadata": {},
   "outputs": [],
   "source": [
    "def main(data, bins):\n",
    "    print(\"Data = \", data)\n",
    "    print(\"Measures of Central Tendency\\n\")\n",
    "    print(\"Mean = \", find_mean(data))\n",
    "    print(\"Median = \", find_median(data))\n",
    "    print(\"Mode = \", find_mode(data))\n",
    "    print(\"---------------------------\")\n",
    "    print(\"Measures of Spread\\n\")\n",
    "    print(\"Five Number Summary\")\n",
    "    print(\"Minimum = \", find_min(data))\n",
    "    print(\"Q1 (First Quartile) = \", list(find_iqr(data))[0])\n",
    "    print(\"Q2 (Median) = \", find_median(data))\n",
    "    print(\"Q3 (Third Quartile) = \", list(find_iqr(data))[1])\n",
    "    print(\"Maximum = \", find_max(data))\n",
    "    print(\"\\n\")\n",
    "    print(\"Range = \", list(find_iqr(data))[1] - list(find_iqr(data))[0])\n",
    "    print(\"IQR = \", list(find_iqr(data))[2])\n",
    "    print(\"Standard Deviation = \", list(find_var_and_stdev(data))[1])\n",
    "    print(\"Variance = \", list(find_var_and_stdev(data))[0])\n",
    "    print(\"---------------------------\")\n",
    "    print(\"Shape of the Data\\n\")\n",
    "    print(\"Histogram of the Distribution\\n\", plot_dist_hist(data,bins))"
   ]
  },
  {
   "cell_type": "markdown",
   "metadata": {},
   "source": [
    "###### Calling main "
   ]
  },
  {
   "cell_type": "code",
   "execution_count": 175,
   "metadata": {},
   "outputs": [],
   "source": [
    "# Normal\n",
    "# input_data = [12, 24, 21, 19, 14, 18, 18, 19, 22, 15] \n",
    "# bins = [11,14,17,20,23,26]\n",
    "\n",
    "# Right Skewed\n",
    "# input_data = [12, 13, 13, 14, 15, 17, 18, 19, 22, 25]\n",
    "# bins = [11, 15, 19, 23, 27]\n",
    "\n",
    "# Left Skewed\n",
    "# input_data = [12, 24, 24, 21, 15, 17, 25, 19, 22, 25]\n",
    "# bins = [11, 15, 19, 23, 27]\n",
    "\n",
    "# Outliers\n",
    "input_data = [12, 24, 21, 19, 16, 17, 18, 19, 22, 15, 35]\n",
    "bins = [11,14,17,20,23,26,29,32,35,38]"
   ]
  },
  {
   "cell_type": "code",
   "execution_count": 176,
   "metadata": {},
   "outputs": [
    {
     "name": "stdout",
     "output_type": "stream",
     "text": [
      "Data =  [12, 24, 21, 19, 16, 17, 18, 19, 22, 15, 35]\n",
      "Measures of Central Tendency\n",
      "\n",
      "Mean =  19.818181818181817\n",
      "Median =  19.0\n",
      "Mode =  19\n",
      "---------------------------\n",
      "Measures of Spread\n",
      "\n",
      "Five Number Summary\n",
      "Minimum =  12\n",
      "Q1 (First Quartile) =  16.0\n",
      "Q2 (Median) =  19.0\n",
      "Q3 (Third Quartile) =  22.0\n",
      "Maximum =  35\n",
      "\n",
      "\n",
      "Range =  6.0\n",
      "IQR =  6.0\n",
      "Standard Deviation =  5.765385452984701\n",
      "Variance =  33.239669421487605\n",
      "---------------------------\n",
      "Shape of the Data\n",
      "\n",
      "Histogram of the Distribution\n",
      " Axes(0.1,0.1;0.8x0.8)\n"
     ]
    },
    {
     "data": {
      "image/png": "[encoded data removed]",
      "text/plain": [
       "<Figure size 432x288 with 1 Axes>"
      ]
     },
     "metadata": {
      "needs_background": "light"
     },
     "output_type": "display_data"
    }
   ],
   "source": [
    "main(input_data, bins)"
   ]
  },
  {
   "cell_type": "code",
   "execution_count": null,
   "metadata": {},
   "outputs": [],
   "source": []
  }
 ],
 "metadata": {
  "kernelspec": {
   "display_name": "Python 3",
   "language": "python",
   "name": "python3"
  },
  "language_info": {
   "codemirror_mode": {
    "name": "ipython",
    "version": 3
   },
   "file_extension": ".py",
   "mimetype": "text/x-python",
   "name": "python",
   "nbconvert_exporter": "python",
   "pygments_lexer": "ipython3",
   "version": "3.7.6"
  }
 },
 "nbformat": 4,
 "nbformat_minor": 4
}
